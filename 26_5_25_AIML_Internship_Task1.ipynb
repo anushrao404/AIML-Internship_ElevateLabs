{
  "nbformat": 4,
  "nbformat_minor": 0,
  "metadata": {
    "colab": {
      "provenance": [],
      "authorship_tag": "ABX9TyN5x7Sm6GfaMvgBEromVVwZ",
      "include_colab_link": true
    },
    "kernelspec": {
      "name": "python3",
      "display_name": "Python 3"
    },
    "language_info": {
      "name": "python"
    }
  },
  "cells": [
    {
      "cell_type": "markdown",
      "metadata": {
        "id": "view-in-github",
        "colab_type": "text"
      },
      "source": [
        "<a href=\"https://colab.research.google.com/github/anushrao404/AIML-Internship_ElevateLabs/blob/main/26_5_25_AIML_Internship_Task1.ipynb\" target=\"_parent\"><img src=\"https://colab.research.google.com/assets/colab-badge.svg\" alt=\"Open In Colab\"/></a>"
      ]
    },
    {
      "cell_type": "code",
      "execution_count": 11,
      "metadata": {
        "colab": {
          "base_uri": "https://localhost:8080/"
        },
        "id": "oWHaHb0DCUHK",
        "outputId": "ce15015f-4674-485f-c9b0-bc411a6004e0"
      },
      "outputs": [
        {
          "output_type": "stream",
          "name": "stdout",
          "text": [
            "<class 'pandas.core.frame.DataFrame'>\n",
            "RangeIndex: 891 entries, 0 to 890\n",
            "Data columns (total 12 columns):\n",
            " #   Column       Non-Null Count  Dtype  \n",
            "---  ------       --------------  -----  \n",
            " 0   PassengerId  891 non-null    int64  \n",
            " 1   Survived     891 non-null    int64  \n",
            " 2   Pclass       891 non-null    int64  \n",
            " 3   Name         891 non-null    object \n",
            " 4   Sex          891 non-null    object \n",
            " 5   Age          714 non-null    float64\n",
            " 6   SibSp        891 non-null    int64  \n",
            " 7   Parch        891 non-null    int64  \n",
            " 8   Ticket       891 non-null    object \n",
            " 9   Fare         891 non-null    float64\n",
            " 10  Cabin        204 non-null    object \n",
            " 11  Embarked     889 non-null    object \n",
            "dtypes: float64(2), int64(5), object(5)\n",
            "memory usage: 83.7+ KB\n",
            "None\n",
            "   PassengerId  Survived  Pclass  \\\n",
            "0            1         0       3   \n",
            "1            2         1       1   \n",
            "2            3         1       3   \n",
            "3            4         1       1   \n",
            "4            5         0       3   \n",
            "\n",
            "                                                Name     Sex   Age  SibSp  \\\n",
            "0                            Braund, Mr. Owen Harris    male  22.0      1   \n",
            "1  Cumings, Mrs. John Bradley (Florence Briggs Th...  female  38.0      1   \n",
            "2                             Heikkinen, Miss. Laina  female  26.0      0   \n",
            "3       Futrelle, Mrs. Jacques Heath (Lily May Peel)  female  35.0      1   \n",
            "4                           Allen, Mr. William Henry    male  35.0      0   \n",
            "\n",
            "   Parch            Ticket     Fare Cabin Embarked  \n",
            "0      0         A/5 21171   7.2500   NaN        S  \n",
            "1      0          PC 17599  71.2833   C85        C  \n",
            "2      0  STON/O2. 3101282   7.9250   NaN        S  \n",
            "3      0            113803  53.1000  C123        S  \n",
            "4      0            373450   8.0500   NaN        S  \n",
            "\n",
            "Missing Values:\n",
            " PassengerId      0\n",
            "Survived         0\n",
            "Pclass           0\n",
            "Name             0\n",
            "Sex              0\n",
            "Age            177\n",
            "SibSp            0\n",
            "Parch            0\n",
            "Ticket           0\n",
            "Fare             0\n",
            "Cabin          687\n",
            "Embarked         2\n",
            "dtype: int64\n"
          ]
        }
      ],
      "source": [
        "#Step 1: Load Dataset & Explore\n",
        "import pandas as pd\n",
        "import numpy as np\n",
        "import seaborn as sns\n",
        "import matplotlib.pyplot as plt\n",
        "\n",
        "# Load Titanic dataset\n",
        "df = pd.read_csv(\"https://raw.githubusercontent.com/datasciencedojo/datasets/master/titanic.csv\")\n",
        "\n",
        "# View basic info\n",
        "print(df.info())\n",
        "print(df.head())\n",
        "print(\"\\nMissing Values:\\n\", df.isnull().sum())\n"
      ]
    },
    {
      "cell_type": "code",
      "source": [
        "#Step 2: Handle Missing Values\n",
        "#Fill 'Age' with mean\n",
        "df['Age'] = df['Age'].fillna(df['Age'].mean())\n",
        "\n",
        "# Drop 'Cabin' (too many nulls)\n",
        "df = df.drop(columns=['Cabin'])\n",
        "\n",
        "# Drop rows with missing 'Embarked'\n",
        "df = df.dropna(subset=['Embarked'])"
      ],
      "metadata": {
        "id": "E3dKMd5yEfDp"
      },
      "execution_count": 12,
      "outputs": []
    },
    {
      "cell_type": "code",
      "source": [
        "#Step 3: Encode Categorical Variables\n",
        "# Convert 'Sex' to numeric (0 = male, 1 = female)\n",
        "df['Sex'] = df['Sex'].map({'male': 0, 'female': 1})\n",
        "\n",
        "# One-hot encode 'Embarked'\n",
        "df = pd.get_dummies(df, columns=['Embarked'], drop_first=True)\n",
        "\n",
        "# Confirm encoding\n",
        "print(df[['Sex', 'Embarked_Q', 'Embarked_S']].head())\n"
      ],
      "metadata": {
        "colab": {
          "base_uri": "https://localhost:8080/"
        },
        "id": "yw7IytatEhHa",
        "outputId": "334d51f4-90e8-45df-9120-0e3e69ac6b46"
      },
      "execution_count": 13,
      "outputs": [
        {
          "output_type": "stream",
          "name": "stdout",
          "text": [
            "   Sex  Embarked_Q  Embarked_S\n",
            "0    0       False        True\n",
            "1    1       False       False\n",
            "2    1       False        True\n",
            "3    1       False        True\n",
            "4    0       False        True\n"
          ]
        }
      ]
    },
    {
      "cell_type": "code",
      "source": [
        "#Step 4: Normalize/Standardize Numeric Features\n",
        "from sklearn.preprocessing import StandardScaler\n",
        "\n",
        "# Select numeric columns to scale\n",
        "numeric_cols = ['Age', 'Fare']\n",
        "\n",
        "# Initialize scaler\n",
        "scaler = StandardScaler()\n",
        "\n",
        "# Apply scaler and replace original columns\n",
        "df[numeric_cols] = scaler.fit_transform(df[numeric_cols])\n",
        "\n",
        "# Check result\n",
        "print(df[numeric_cols].describe())\n"
      ],
      "metadata": {
        "colab": {
          "base_uri": "https://localhost:8080/"
        },
        "id": "iJg8QGJ7Ejto",
        "outputId": "915fc9c7-3947-4a71-d45b-ced91c8c34d2"
      },
      "execution_count": 14,
      "outputs": [
        {
          "output_type": "stream",
          "name": "stdout",
          "text": [
            "                Age          Fare\n",
            "count  8.890000e+02  8.890000e+02\n",
            "mean   3.316932e-16  1.398706e-16\n",
            "std    1.000563e+00  1.000563e+00\n",
            "min   -2.255481e+00 -6.462044e-01\n",
            "25%   -5.904949e-01 -4.872378e-01\n",
            "50%    3.523727e-03 -3.551972e-01\n",
            "75%    4.125086e-01 -2.207954e-02\n",
            "max    3.884444e+00  9.668551e+00\n"
          ]
        }
      ]
    },
    {
      "cell_type": "code",
      "source": [
        "# Step 5: Detect and Handle Outliers\n",
        "# Boxplots to visualize outliers\n",
        "plt.figure(figsize=(12, 5))\n",
        "plt.subplot(1, 2, 1)\n",
        "sns.boxplot(y='Age', data=df)\n",
        "plt.title('Boxplot: Age')\n",
        "\n",
        "plt.subplot(1, 2, 2)\n",
        "sns.boxplot(y='Fare', data=df)\n",
        "plt.title('Boxplot: Fare')\n",
        "\n",
        "plt.tight_layout()\n",
        "plt.show()\n",
        "\n",
        "# Remove outliers using IQR method\n",
        "for col in ['Age', 'Fare']:\n",
        "    Q1 = df[col].quantile(0.25)\n",
        "    Q3 = df[col].quantile(0.75)\n",
        "    IQR = Q3 - Q1\n",
        "    lower_bound = Q1 - 1.5 * IQR\n",
        "    upper_bound = Q3 + 1.5 * IQR\n",
        "    df = df[(df[col] >= lower_bound) & (df[col] <= upper_bound)]\n",
        "\n",
        "print(\"\\n✅ Outliers removed. Final shape:\", df.shape)\n"
      ],
      "metadata": {
        "colab": {
          "base_uri": "https://localhost:8080/",
          "height": 528
        },
        "id": "nQTgBvMSElwT",
        "outputId": "1f1aed2c-d488-46e1-9d08-6a096daf47ad"
      },
      "execution_count": 15,
      "outputs": [
        {
          "output_type": "display_data",
          "data": {
            "text/plain": [
              "<Figure size 1200x500 with 2 Axes>"
            ],
            "image/png": "[encoded data removed]"
          },
          "metadata": {}
        },
        {
          "output_type": "stream",
          "name": "stdout",
          "text": [
            "\n",
            "✅ Outliers removed. Final shape: (718, 12)\n"
          ]
        }
      ]
    },
    {
      "cell_type": "code",
      "source": [
        "#Final Cleaned Data Preview\n",
        "print(df.head())\n",
        "print(df.info())\n"
      ],
      "metadata": {
        "colab": {
          "base_uri": "https://localhost:8080/"
        },
        "id": "5rQI9qfwEqHa",
        "outputId": "feb7a499-e692-4e0f-f320-a59f919b03c9"
      },
      "execution_count": 16,
      "outputs": [
        {
          "output_type": "stream",
          "name": "stdout",
          "text": [
            "   PassengerId  Survived  Pclass  \\\n",
            "0            1         0       3   \n",
            "2            3         1       3   \n",
            "3            4         1       1   \n",
            "4            5         0       3   \n",
            "5            6         0       3   \n",
            "\n",
            "                                           Name  Sex       Age  SibSp  Parch  \\\n",
            "0                       Braund, Mr. Owen Harris    0 -0.590495      1      0   \n",
            "2                        Heikkinen, Miss. Laina    1 -0.281878      0      0   \n",
            "3  Futrelle, Mrs. Jacques Heath (Lily May Peel)    1  0.412509      1      0   \n",
            "4                      Allen, Mr. William Henry    0  0.412509      0      0   \n",
            "5                              Moran, Mr. James    0  0.003524      0      0   \n",
            "\n",
            "             Ticket      Fare  Embarked_Q  Embarked_S  \n",
            "0         A/5 21171 -0.500240       False        True  \n",
            "2  STON/O2. 3101282 -0.486650       False        True  \n",
            "3            113803  0.422861       False        True  \n",
            "4            373450 -0.484133       False        True  \n",
            "5            330877 -0.475913        True       False  \n",
            "<class 'pandas.core.frame.DataFrame'>\n",
            "Index: 718 entries, 0 to 890\n",
            "Data columns (total 12 columns):\n",
            " #   Column       Non-Null Count  Dtype  \n",
            "---  ------       --------------  -----  \n",
            " 0   PassengerId  718 non-null    int64  \n",
            " 1   Survived     718 non-null    int64  \n",
            " 2   Pclass       718 non-null    int64  \n",
            " 3   Name         718 non-null    object \n",
            " 4   Sex          718 non-null    int64  \n",
            " 5   Age          718 non-null    float64\n",
            " 6   SibSp        718 non-null    int64  \n",
            " 7   Parch        718 non-null    int64  \n",
            " 8   Ticket       718 non-null    object \n",
            " 9   Fare         718 non-null    float64\n",
            " 10  Embarked_Q   718 non-null    bool   \n",
            " 11  Embarked_S   718 non-null    bool   \n",
            "dtypes: bool(2), float64(2), int64(6), object(2)\n",
            "memory usage: 63.1+ KB\n",
            "None\n"
          ]
        }
      ]
    }
  ]
}